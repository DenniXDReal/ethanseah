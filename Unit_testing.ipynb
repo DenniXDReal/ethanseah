{
 "cells": [
  {
   "cell_type": "code",
   "execution_count": 4,
   "metadata": {},
   "outputs": [
    {
     "name": "stderr",
     "output_type": "stream",
     "text": [
      "C:\\Users\\Ethan seah\\AppData\\Local\\Temp\\ipykernel_32760\\3832726330.py:1: DeprecationWarning: \n",
      "Pyarrow will become a required dependency of pandas in the next major release of pandas (pandas 3.0),\n",
      "(to allow more performant data types, such as the Arrow string type, and better interoperability with other libraries)\n",
      "but was not found to be installed on your system.\n",
      "If this would cause problems for you,\n",
      "please provide us feedback at https://github.com/pandas-dev/pandas/issues/54466\n",
      "        \n",
      "  import pandas as pd\n"
     ]
    }
   ],
   "source": [
    "import pandas as pd\n",
    "import sys\n",
    "\n",
    "\n",
    "class VisitorsAnalyticsUtils:\n",
    "    def __init__(self, period, region, path):\n",
    "        self.period = period\n",
    "        self.region = region\n",
    "        self.path = path\n",
    "    \n",
    "    def loadDataFile(self):\n",
    "        return pd.read_csv(self.path)\n",
    "    \n",
    "    def parseData(self):\n",
    "        data = self.loadDataFile()\n",
    "        data['Year'] = data.iloc[:, 0].str.split().str[0]\n",
    "        data = data.dropna()\n",
    "\n",
    "        asia = [\" Brunei Darussalam \", \" Indonesia \", \" Malaysia \", \" Philippines \", \" Thailand \", \" Viet Nam \", \" Myanmar \", \" Japan \", \" Hong Kong \", \" China \", \" Taiwan \" ,\" Korea, Republic Of \", \" India \", \" Pakistan \", \" Sri Lanka \", \" Saudi Arabia \", \" Kuwait \", \" UAE \"]\n",
    "        europe = [' United Kingdom ', ' Germany ', ' France ', ' Italy ', ' Netherlands ', ' Greece ', ' Belgium & Luxembourg ', ' Switzerland ', ' Austria ', ' Scandinavia ', ' CIS & Eastern Europe '  ]\n",
    "        others = [' USA ', ' Canada ', ' Australia ', ' New Zealand ', ' Africa ']\n",
    "\n",
    "        #Getting data from the year period\n",
    "        if self.period == '1':\n",
    "            period_data = data.loc[(data['Year'] >= '1978') & (data['Year'] <= '1987')]\n",
    "        elif self.period == '2':\n",
    "            period_data = data.loc[(data['Year'] >= '1988') & (data['Year'] <= '1997')]\n",
    "        elif self.period == '3':\n",
    "            period_data = data.loc[(data['Year'] >= '1998') & (data['Year'] <= '2007')]\n",
    "        elif self.period == '4':\n",
    "            period_data = data.loc[(data['Year'] >= '2008') & (data['Year'] <= '2017')]\n",
    "        else:\n",
    "            print(\"Period is not in range. Exiting...\")\n",
    "            sys.exit(0)\n",
    "\n",
    "        period_data = period_data.drop('Year', axis=1)\n",
    "\n",
    "        #Getting the region data for the year period\n",
    "        if self.region == '1':\n",
    "            region_data = period_data[asia].copy()\n",
    "        elif self.region == '2':\n",
    "            region_data = period_data[europe].copy()\n",
    "        elif self.region == '3':\n",
    "            region_data = period_data[others].copy()\n",
    "        else:\n",
    "            print(\"Region is not in range. Exiting...\")\n",
    "            sys.exit(0)\n",
    "        \n",
    "        return region_data\n",
    "\n"
   ]
  },
  {
   "cell_type": "code",
   "execution_count": 5,
   "metadata": {},
   "outputs": [
    {
     "name": "stderr",
     "output_type": "stream",
     "text": [
      "....\n",
      "----------------------------------------------------------------------\n",
      "Ran 4 tests in 0.092s\n",
      "\n",
      "OK\n"
     ]
    },
    {
     "data": {
      "text/plain": [
       "<unittest.main.TestProgram at 0x1e66860bb10>"
      ]
     },
     "execution_count": 5,
     "metadata": {},
     "output_type": "execute_result"
    }
   ],
   "source": [
    "import unittest\n",
    "\n",
    "class TestVisitorsAnalyticsUtils(unittest.TestCase):\n",
    "    def test_loadDataFile(self):\n",
    "        data = VisitorsAnalyticsUtils('1', '1', './Int_Monthly_Visitor.csv')\n",
    "        df = data.loadDataFile()\n",
    "        self.assertIsInstance(df, pd.DataFrame)\n",
    "\n",
    "    def test_parseData(self):\n",
    "        data = VisitorsAnalyticsUtils('1', '1', './Int_Monthly_Visitor.csv')\n",
    "        region_data = data.parseData()  # Corrected method name\n",
    "        self.assertIsInstance(region_data, pd.DataFrame)\n",
    "\n",
    "    def test_parseData_period(self):\n",
    "        data = VisitorsAnalyticsUtils('1', '1', './Int_Monthly_Visitor.csv')\n",
    "        region_data = data.parseData() \n",
    "        # Assuming expected number of rows based on data file\n",
    "        self.assertEqual(len(region_data), 120)\n",
    "\n",
    "    def test_parseData_region(self):\n",
    "        data = VisitorsAnalyticsUtils('1', '1', './Int_Monthly_Visitor.csv')\n",
    "        region_data = data.parseData() \n",
    "        # Assuming expected number of columns based on data file\n",
    "        self.assertEqual(len(region_data.columns), 18)\n",
    "\n",
    "unittest.main(argv=[''], exit=False)\n"
   ]
  }
 ],
 "metadata": {
  "kernelspec": {
   "display_name": "Python 3",
   "language": "python",
   "name": "python3"
  },
  "language_info": {
   "codemirror_mode": {
    "name": "ipython",
    "version": 3
   },
   "file_extension": ".py",
   "mimetype": "text/x-python",
   "name": "python",
   "nbconvert_exporter": "python",
   "pygments_lexer": "ipython3",
   "version": "3.11.7"
  }
 },
 "nbformat": 4,
 "nbformat_minor": 2
}
